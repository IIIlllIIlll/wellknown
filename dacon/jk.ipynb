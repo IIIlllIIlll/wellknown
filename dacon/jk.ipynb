{
 "cells": [
  {
   "cell_type": "code",
   "execution_count": 150,
   "metadata": {},
   "outputs": [],
   "source": [
    "import pandas as pd\n",
    "import numpy as np\n",
    "import matplotlib.pyplot as plt\n",
    "%matplotlib inline\n",
    "import platform\n",
    "\n",
    "from sklearn.ensemble import GradientBoostingRegressor\n",
    "from sklearn.model_selection import train_test_split\n",
    "\n",
    "import seaborn as sns\n",
    "from sklearn.model_selection import GridSearchCV\n",
    "\n",
    "# 운영체제별 한글 폰트 설정\n",
    "if platform.system() == 'Windows': # Windows 환경 폰트 설정\n",
    "    plt.rc('font', family='Malgun Gothic')\n",
    "\n",
    "plt.rc('axes', unicode_minus=False) # 마이너스 폰트 설정\n",
    "\n",
    "\n",
    "# 글씨 선명하게 출력하는 설정\n",
    "%config InlineBackend.figure_format = 'retina'\n",
    "\n",
    "# Warning 제거\n",
    "import warnings\n",
    "warnings.simplefilter(action='ignore', category=FutureWarning) \n",
    "warnings.simplefilter(action='ignore', category=UserWarning)  \n",
    "pd.set_option('mode.chained_assignment',  None)   \n",
    "#pd.set_option('mode.chained_assignment', 'warn')"
   ]
  },
  {
   "cell_type": "code",
   "execution_count": 151,
   "metadata": {},
   "outputs": [],
   "source": [
    "sample_df = pd.read_csv(r'data\\sample_submission.csv')\n",
    "test_df = pd.read_csv(r'data\\test.csv')\n",
    "train_df = pd.read_csv(r'data\\train.csv')"
   ]
  },
  {
   "cell_type": "code",
   "execution_count": 152,
   "metadata": {},
   "outputs": [],
   "source": [
    "Y = train_df['착과량(int)']\n",
    "X = train_df.drop(['ID','착과량(int)'],axis = 1)\n",
    "test = test_df.drop('ID',axis=1)"
   ]
  },
  {
   "cell_type": "code",
   "execution_count": 153,
   "metadata": {},
   "outputs": [],
   "source": [
    "cols=[]\n",
    "for i in X.columns:\n",
    "    if '엽록소' not in i:\n",
    "        cols.append(i)\n",
    "x = X[cols]\n",
    "test = test_df[cols]"
   ]
  },
  {
   "cell_type": "code",
   "execution_count": 156,
   "metadata": {},
   "outputs": [
    {
     "name": "stdout",
     "output_type": "stream",
     "text": [
      "Best Param: {'learning_rate': 0.05, 'max_depth': 4, 'min_samples_leaf': 8, 'min_samples_split': 12, 'n_estimators': 100}\n",
      "훈련 정확도 : 0.978832825102613\n",
      "test 정확도 : 0.9702893099488676\n"
     ]
    }
   ],
   "source": [
    "x_tr, x_te, y_tr, y_te = train_test_split(x,Y, test_size = 0.3, random_state=3)\n",
    "\n",
    "params ={\n",
    "    'n_estimators':[100,110,120,130],\n",
    "    'max_depth':[4,6,8,10],\n",
    "    'min_samples_leaf':[8,12,18],\n",
    "    'min_samples_split':[8,12,18],\n",
    "    'learning_rate' : [0.05,0.1,0.15]\n",
    "}\n",
    "\n",
    "gbm = GradientBoostingRegressor()\n",
    "grid_cv = GridSearchCV(gbm, param_grid=params, cv=2, n_jobs=-1)\n",
    "grid_cv.fit(x_tr,y_tr)\n",
    "\n",
    "print(f\"Best Param: {grid_cv.best_params_}\")\n",
    "depth = grid_cv.best_params_['max_depth']\n",
    "leaf = grid_cv.best_params_['min_samples_leaf']\n",
    "split = grid_cv.best_params_['min_samples_split']\n",
    "estimators = grid_cv.best_params_['n_estimators']\n",
    "learning = grid_cv.best_params_['learning_rate']\n",
    "\n",
    "model = GradientBoostingRegressor(max_depth=depth,min_samples_leaf=leaf,min_samples_split=split,n_estimators=estimators,learning_rate=learning)\n",
    "\n",
    "model.fit(x_tr, y_tr)\n",
    "\n",
    "train_accuracy = model.score(x_tr, y_tr)\n",
    "test_accuracy = model.score(x_te, y_te)\n",
    "\n",
    "print(f'훈련 정확도 : {train_accuracy}\\ntest 정확도 : {test_accuracy}')\n"
   ]
  },
  {
   "cell_type": "code",
   "execution_count": 157,
   "metadata": {},
   "outputs": [
    {
     "name": "stdout",
     "output_type": "stream",
     "text": [
      "훈련 정확도는 : 0.9803726889294049 입니다.\n"
     ]
    }
   ],
   "source": [
    "model = GradientBoostingRegressor(max_depth=depth,min_samples_leaf=leaf,min_samples_split=split,n_estimators=estimators)\n",
    "model.fit(x, Y)\n",
    "\n",
    "train_accuracy = model.score(x, Y)\n",
    "print(f'훈련 정확도는 : {train_accuracy} 입니다.')"
   ]
  },
  {
   "cell_type": "code",
   "execution_count": 159,
   "metadata": {},
   "outputs": [],
   "source": [
    "test_pred = model.predict(test)\n",
    "sample_df['착과량(int)'] = test_pred.astype(int)\n",
    "sample_df.to_csv('result.csv',index=False)"
   ]
  }
 ],
 "metadata": {
  "kernelspec": {
   "display_name": "Python 3",
   "language": "python",
   "name": "python3"
  },
  "language_info": {
   "codemirror_mode": {
    "name": "ipython",
    "version": 3
   },
   "file_extension": ".py",
   "mimetype": "text/x-python",
   "name": "python",
   "nbconvert_exporter": "python",
   "pygments_lexer": "ipython3",
   "version": "3.10.5"
  },
  "orig_nbformat": 4,
  "vscode": {
   "interpreter": {
    "hash": "369f2c481f4da34e4445cda3fffd2e751bd1c4d706f27375911949ba6bb62e1c"
   }
  }
 },
 "nbformat": 4,
 "nbformat_minor": 2
}
